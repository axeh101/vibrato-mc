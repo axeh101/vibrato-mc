{
 "cells": [
  {
   "cell_type": "markdown",
   "metadata": {},
   "source": [
    "The Oxford English Dictionary describes “vibrato” as “a rapid slight variation in\n",
    "pitch in singing or playing some musical instruments”. The analogy to Monte Carlo\n",
    "methods is the following: whereas a path simulation in a standard Monte Carlo cal-\n",
    "culation produces a precise value for the output values from the underlying stochas-\n",
    "tic process, in the vibrato Monte Carlo approach the output values have a narrow\n",
    "probability distribution.\n"
   ]
  },
  {
   "cell_type": "code",
   "execution_count": 3,
   "metadata": {},
   "outputs": [],
   "source": [
    "import numpy as np\n",
    "import pandas as pd\n",
    "\n",
    "import matplotlib.pyplot as plt"
   ]
  },
  {
   "cell_type": "code",
   "execution_count": 9,
   "metadata": {},
   "outputs": [],
   "source": [
    "from scipy.stats import norm"
   ]
  },
  {
   "cell_type": "code",
   "execution_count": 4,
   "metadata": {},
   "outputs": [],
   "source": [
    "def savefig(filename):\n",
    "    plt.savefig('{}.pdf'.format(filename))"
   ]
  },
  {
   "cell_type": "code",
   "execution_count": 5,
   "metadata": {},
   "outputs": [],
   "source": [
    "# Figures configuration\n",
    "width = 6\n",
    "height = width / 1.618\n",
    "\n",
    "preamble = r\"\\usepackage[utf8x]{inputenc}, \\usepackage[T1]{fontenc}\"\n",
    "plt.rc('pgf', texsystem='pdflatex', preamble=preamble)\n",
    "plt.rc('figure', figsize=[width, height], autolayout=True)\n",
    "plt.rc('font', size=13, family='Serif')\n",
    "plt.rc('text', usetex=True)\n",
    "plt.rc('lines', linewidth=1.2)\n",
    "plt.rc('axes.spines', top=False, right=False)\n",
    "plt.rc('axes', labelsize=14, grid=False, titlesize=16, titlepad=22)\n",
    "plt.rc('axes3d', grid=False)\n",
    "plt.rc('xtick', direction='in', labelsize=14)\n",
    "plt.rc('ytick', direction='in', labelsize=14)\n",
    "plt.rc('xtick.minor', visible=True, size=4)\n",
    "plt.rc('ytick.minor', visible=True, size=4)\n",
    "plt.rc('xtick.major', size=7.5)\n",
    "plt.rc('ytick.major', size=7.5)\n"
   ]
  },
  {
   "cell_type": "markdown",
   "metadata": {},
   "source": [
    "# Premium Vibrato\n",
    "For description see article 1"
   ]
  },
  {
   "cell_type": "code",
   "execution_count": 72,
   "metadata": {},
   "outputs": [],
   "source": [
    "T = 1\n",
    "K = 100\n",
    "S = 100\n",
    "r = 0.05\n",
    "sigma = .2\n",
    "M = 1000\n",
    "Mz = 100\n",
    "n = 100\n",
    "def premium_vibrato(S):\n",
    "    total = 0\n",
    "    h = T/n\n",
    "    for i in range(M):\n",
    "        X = S\n",
    "        for i in range(n-1):\n",
    "            Wh = np.random.randn() * np.sqrt(h)\n",
    "            X *= (1+r*h + sigma * Wh)\n",
    "\n",
    "        muw = X* (1+r*h)\n",
    "        sigmaw = X * sigma * np.sqrt(h)\n",
    "        subtotal = 0\n",
    "        for j in range(Mz):\n",
    "            Z = np.random.randn()\n",
    "            subtotal += max(muw + sigmaw  * Z -K, 0)\n",
    "        total += subtotal / Mz\n",
    "    return total/M"
   ]
  },
  {
   "cell_type": "code",
   "execution_count": 73,
   "metadata": {},
   "outputs": [],
   "source": [
    "data = []\n",
    "for S in np.linspace(30, 200, 100):\n",
    "    data.append(premium_vibrato(S))"
   ]
  },
  {
   "cell_type": "code",
   "execution_count": 74,
   "metadata": {},
   "outputs": [
    {
     "data": {
      "text/plain": [
       "[<matplotlib.lines.Line2D at 0x7fae547ea6d0>]"
      ]
     },
     "execution_count": 74,
     "metadata": {},
     "output_type": "execute_result"
    },
    {
     "data": {
      "image/png": "[encoded data removed]",
      "text/plain": [
       "<Figure size 432x266.996 with 1 Axes>"
      ]
     },
     "metadata": {
      "needs_background": "light"
     },
     "output_type": "display_data"
    }
   ],
   "source": [
    "plt.plot(np.linspace(80, 120, 100), data)"
   ]
  },
  {
   "cell_type": "code",
   "execution_count": null,
   "metadata": {},
   "outputs": [],
   "source": [
    "h = T/N;\n",
    "\n",
    "S = S0*ones(1,M);\n",
    "tanS0 = ones(1,M);\n",
    "tanSig = zeros(1,M);\n",
    "tanS0Sig = zeros(1,M);\n",
    "\n",
    "%First lets Euler-Maruyama the process and associated tangent processes.\n",
    "%Note the second order tangent process with respect to S0 will be\n",
    "%identically zero, as the intial condition will be zero, and it takes the\n",
    "%same form as tanS0\n",
    "for n=1:(N-1)\n",
    "   dW = sqrt(h)*randn(1,M);\n",
    "   tanSig = tanSig.*(1+mu*h+sig*dW) + S.*dW;\n",
    "   tanS0Sig = tanS0Sig.*(1+mu*h+sig*dW) + tanS0.*dW;\n",
    "   tanS0 = tanS0.*(1+mu*h+sig*dW);\n",
    "   S = S.*(1+mu*h+sig*dW);\n",
    "end\n",
    "\n",
    "Z = randn(d,M);\n",
    "\n",
    "muw = S*(1+mu*h); %array of drift of final timesteps for each path\n",
    "sigmaw = S*(sig*sqrt(h)); %array of vols of final timestep\n",
    "\n",
    "dmuw = tanS0*(1+mu*h); % S0 tangent drifts\n",
    "dsigmaw = tanS0*(sig*sqrt(h)); % vols\n",
    "\n",
    "vmuw = tanSig*(1+mu*h); %Same for the sigma tangent\n",
    "vsigmaw = tanSig*(sig*sqrt(h)) + S*sqrt(h);\n",
    "\n",
    "vamuw = tanS0Sig*(1+mu*h); %Same for the S0-sigma tangent\n",
    "vasigmaw = tanS0Sig*(sig*sqrt(h)) + tanS0*sqrt(h);\n",
    "\n",
    "Sp=ones(d,1)*muw+(ones(d,1)*sigmaw).*Z;\n",
    "Sm=ones(d,1)*muw-(ones(d,1)*sigmaw).*Z;\n",
    "Sneutral=ones(d,1)*muw;\n",
    "%The above quantities are used for the calculation of antithetic variables\n",
    "%later, to speed up convergence\n",
    "\n",
    "switch flavor\n",
    "    case 'vanilla'\n",
    "        fSp = exp(-mu*T)*(0.5)*(1+ sign(Sp-K)).*(Sp-K);\n",
    "        fSm = exp(-mu*T)*(0.5)*(1 + sign(Sm - K)).*(Sm-K); %These are payoff values\n",
    "        fmuw = exp(-mu*T)*(0.5)*(1 + sign(Sneutral - K)).*(Sneutral-K);\n",
    "    case 'digital'\n",
    "        fSp = exp(-mu*T)*(0.5)*(1 + sign(Sp - K));\n",
    "        fSm = exp(-mu*T)*(0.5)*(1 + sign(Sm - K)); \n",
    "        fmuw = exp(-mu*T)*(0.5)*(1 + sign(Sneutral - K));\n",
    "    otherwise\n",
    "        error('Invalid payoff time. Currently \"digital\" or \"vanilla\" is supported')\n",
    "end\n",
    "    \n",
    "oddAntithetic = fSp - fSm; % For terms where the polynomial in Z is odd\n",
    "evenAntithetic = fSp - 2*fmuw + fSm; % When its even, subtract the 2 to\n",
    "%stay O(1)\n",
    "\n",
    "switch greek %Section 2.2-2.3 for explanation of 1st order, 2.4 for 2nd\n",
    "    case 'delta'\n",
    "        Ymu = Z.*(ones(d,1)*(1./sigmaw))*(1/2).*(oddAntithetic);\n",
    "        Ysigma = (Z.^2-1).*(ones(d,1)*(1./sigmaw))*(1/2).*(evenAntithetic);\n",
    "        deltMat = (ones(d,1)*dmuw).*Ymu + (ones(d,1)*dsigmaw).*Ysigma;\n",
    "        valsDelta = 1/d*sum(deltMat);\n",
    "        value = sum(valsDelta)/M;\n",
    "        variance=(1/M)*(1/M*sum(valsDelta.^2)-(value)^2)+1/(M*d)...\n",
    "        *1/M*sum(sum(deltMat.^2)/d-valsDelta.^2);\n",
    "    case 'vega'\n",
    "        Ymu = Z.*(ones(d,1)*(1./sigmaw))*(1/2).*(oddAntithetic);\n",
    "        Ysigma = (Z.^2-1).*(ones(d,1)*(1./sigmaw))*(1/2).*(evenAntithetic);\n",
    "        vegaMat = (ones(d,1)*vmuw).*Ymu + (ones(d,1)*vsigmaw).*Ysigma;\n",
    "        valsVega = 1/d*sum(vegaMat);\n",
    "        value = sum(valsVega)/M;\n",
    "        variance=(1/M)*(1/M*sum(valsVega.^2)-(value)^2)+1/(M*d)...\n",
    "        *1/M*sum(sum(vegaMat.^2)/d-valsVega.^2);\n",
    "    case 'gamma'\n",
    "        Ymusquare = (Z.^2-1).*(ones(d,1)*(1./(sigmaw.^2)))*(1/2).*(evenAntithetic);\n",
    "        Ysigmasquare = (Z.^4-5.*Z.^2 - 2).*(ones(d,1)*(1./(sigmaw.^2)))*(1/2).*(evenAntithetic);\n",
    "        Ymixed = (Z.^3-3.*Z).*(ones(d,1)*(1./(sigmaw.^2)))*(1/2).*(oddAntithetic);\n",
    "        gammaMat = (ones(d,1)*(dmuw.^2)).*Ymusquare + ...\n",
    "        (ones(d,1)*(dsigmaw.^2)).*Ysigmasquare + ...\n",
    "        2.*(ones(d,1)*(dmuw.*dsigmaw)).*Ymixed;\n",
    "        valsGamma = 1/d*sum(gammaMat);\n",
    "        value = sum(valsGamma)/M;\n",
    "        variance=(1/M)*(1/M*sum(valsGamma.^2)-(value)^2)+1/(M*d)...\n",
    "        *1/M*sum(sum(gammaMat.^2)/d-valsGamma.^2);\n",
    "    case 'vanna'\n",
    "        Ydoublemu = (Z).*(ones(d,1)*(1./(sigmaw)))*(1/2).*(oddAntithetic);\n",
    "        Ydoublesigma = (Z.^2-1).*(ones(d,1)*(1./(sigmaw)))*(1/2).*(evenAntithetic);\n",
    "        Ymusquare = (Z.^2-1).*(ones(d,1)*(1./(sigmaw.^2)))*(1/2).*(evenAntithetic);\n",
    "        Ysigmasquare = (Z.^4-5.*Z.^2 - 2).*(ones(d,1)*(1./(sigmaw.^2)))*(1/2).*(evenAntithetic);\n",
    "        Ymixed = (Z.^3-3.*Z).*(ones(d,1)*(1./(sigmaw.^2)))*(1/2).*(oddAntithetic);\n",
    "        vannaMat = (ones(d,1)*(vamuw)).*Ydoublemu + ...\n",
    "        (ones(d,1)*(dmuw.*vmuw)).*Ymusquare + ...\n",
    "        (ones(d,1)*(vasigmaw)).*Ydoublesigma + ...\n",
    "        (ones(d,1)*(dsigmaw.*vsigmaw)).*Ysigmasquare + ...\n",
    "        (ones(d,1)*(dmuw.*vsigmaw + vmuw.*dsigmaw)).*Ymixed;\n",
    "        valsVanna = 1/d*sum(vannaMat);\n",
    "        value = sum(valsVanna)/M;\n",
    "        variance=(1/M)*(1/M*sum(valsVanna.^2)-(value)^2)+1/(M*d)...\n",
    "        *1/M*sum(sum(vannaMat.^2)/d-valsVanna.^2);\n",
    "    otherwise\n",
    "        error('Invalid Greek. Delta, gamma, vega and vanna are currently supported');\n",
    "end"
   ]
  }
 ],
 "metadata": {
  "kernelspec": {
   "display_name": "Python 3",
   "language": "python",
   "name": "python3"
  },
  "language_info": {
   "codemirror_mode": {
    "name": "ipython",
    "version": 3
   },
   "file_extension": ".py",
   "mimetype": "text/x-python",
   "name": "python",
   "nbconvert_exporter": "python",
   "pygments_lexer": "ipython3",
   "version": "3.9.2"
  }
 },
 "nbformat": 4,
 "nbformat_minor": 4
}
